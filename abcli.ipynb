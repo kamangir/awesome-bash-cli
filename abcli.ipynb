{
    "cells": [
        {
            "attachments": {},
            "cell_type": "markdown",
            "metadata": {},
            "source": [
                "# abcli notebook"
            ]
        },
        {
            "cell_type": "code",
            "execution_count": 1,
            "metadata": {},
            "outputs": [
                {
                    "name": "stderr",
                    "output_type": "stream",
                    "text": [
                        "abcli-7.2287.1-unknown, built on 22 June 2023, 19:45:04\n"
                    ]
                }
            ],
            "source": [
                "import os\n",
                "\n",
                "from abcli import file\n",
                "from abcli import fullname\n",
                "from abcli import string\n",
                "from abcli.plugins import seed\n",
                "\n",
                "import abcli.logging\n",
                "import logging\n",
                "\n",
                "logger = logging.getLogger()\n",
                "\n",
                "logger.info(f\"{fullname()}, built on {string.pretty_date()}\")"
            ]
        },
        {
            "cell_type": "code",
            "execution_count": 2,
            "metadata": {},
            "outputs": [],
            "source": [
                "object_name = string.timestamp()"
            ]
        },
        {
            "cell_type": "code",
            "execution_count": 3,
            "metadata": {},
            "outputs": [
                {
                    "name": "stdout",
                    "output_type": "stream",
                    "text": [
                        "env: abcli_object_name=2023-06-22-19-45-04-74194\n",
                        "env: abcli_object_path=~/storage/abcli/2023-06-22-19-45-04-74194\n"
                    ]
                }
            ],
            "source": [
                "%env abcli_object_name={object_name}\n",
                "%env abcli_object_path=~/storage/abcli/{object_name}"
            ]
        },
        {
            "cell_type": "code",
            "execution_count": 8,
            "metadata": {},
            "outputs": [
                {
                    "name": "stderr",
                    "output_type": "stream",
                    "text": [
                        "\n",
                        "CommandNotFoundError: Your shell has not been properly configured to use 'conda activate'.\n",
                        "To initialize your shell, run\n",
                        "\n",
                        "    $ conda init <SHELL_NAME>\n",
                        "\n",
                        "Currently supported shells are:\n",
                        "  - bash\n",
                        "  - fish\n",
                        "  - tcsh\n",
                        "  - xonsh\n",
                        "  - zsh\n",
                        "  - powershell\n",
                        "\n",
                        "See 'conda init --help' for more information and options.\n",
                        "\n",
                        "IMPORTANT: You may need to close and restart your shell after running 'conda init'.\n",
                        "\n",
                        "\n"
                    ]
                },
                {
                    "name": "stdout",
                    "output_type": "stream",
                    "text": [
                        "\u001b[0;36m✅ papertrail-104\u001b[0m\n",
                        "\u001b[0;36m✅ template-101\u001b[0m\n",
                        "loading \u001b[0;32m30\u001b[0m plugin(s): \u001b[0;32m\u001b[31mcache\u001b[m\u001b[m \u001b[31mgit\u001b[m\u001b[m \u001b[31mjupyter-notebook\u001b[m\u001b[m \u001b[31mmessage\u001b[m\u001b[m \u001b[31mrelations\u001b[m\u001b[m \u001b[31mscript\u001b[m\u001b[m \u001b[31mtags\u001b[m\u001b[m \u001b[31mterminal\u001b[m\u001b[m GPU add alias aws browse clone conda docker graphics huggingface instance papertrail publish repeat scp screen seed session sleep ssh storage wifi\u001b[0m\n",
                        "\u001b[0;36m🔵 CV\u001b[0m\n",
                        "\u001b[0;36m🔵 EstimDiff\u001b[0m\n",
                        "\u001b[0;36m✅ EstimDiff-104\u001b[0m\n",
                        "\u001b[0;36m🔵 Iran-Watching\u001b[0m\n",
                        "\u001b[0;36m🔵 Kanata\u001b[0m\n",
                        "\u001b[0;36m✅ Kanata-103\u001b[0m\n",
                        "\u001b[0;36m🔵 Vancouver-Watching\u001b[0m\n",
                        "\u001b[0;36m🔹 iran\u001b[0m\n",
                        "\u001b[0;36m🔹 vancouver\u001b[0m\n",
                        "\u001b[0;36m✅ vancouver_watching-103\u001b[0m\n",
                        "\u001b[0;36m🔵 aiart\u001b[0m\n",
                        "\u001b[0;36m✅ aiart-101\u001b[0m\n",
                        "\u001b[0;36m🔵 blue-plugin\u001b[0m\n",
                        "\u001b[0;36m✅ blue_plugin-101\u001b[0m\n",
                        "\u001b[0;36m🔵 blue-sbc\u001b[0m\n",
                        "\u001b[0;36m🔵 blue-stability\u001b[0m\n",
                        "\u001b[0;36m✅ blue_stability-103\u001b[0m\n",
                        "\u001b[0;36m🔵 blue-wiki\u001b[0m\n",
                        "\u001b[0;36m✅ wordcloud-101\u001b[0m\n",
                        "\u001b[0;36m🔵 blue-worker\u001b[0m\n",
                        "\u001b[0;36m🔵 bracket\u001b[0m\n",
                        "\u001b[0;36m🔵 browser\u001b[0m\n",
                        "\u001b[0;36m🔵 dart\u001b[0m\n",
                        "\u001b[0;36m🔵 dec82\u001b[0m\n",
                        "\u001b[0;36m🔵 ferfereh\u001b[0m\n",
                        "\u001b[0;36m🔵 giza\u001b[0m\n",
                        "\u001b[0;36m✅ blue_plugin-101\u001b[0m\n",
                        "\u001b[0;36m🔵 grove.py\u001b[0m\n",
                        "\u001b[0;36m🔵 iAi\u001b[0m\n",
                        "\u001b[0;36m✅ iAi-113\u001b[0m\n",
                        "\u001b[0;36m🔵 openai\u001b[0m\n",
                        "\u001b[0;36m✅ openai-101\u001b[0m\n",
                        "\u001b[0;36m🔵 sandbox\u001b[0m\n",
                        "\u001b[0;36m✅ sandbox-101\u001b[0m\n",
                        "\u001b[0;36m🔵 yolov5\u001b[0m\n",
                        "\u001b[0;36m✅ fiftyone-101\u001b[0m\n",
                        "\u001b[0;36m✅ kaggle-101\u001b[0m\n",
                        "\u001b[0;36m✅ yolov5-101\u001b[0m\n",
                        "Agent pid 55241\n"
                    ]
                },
                {
                    "name": "stderr",
                    "output_type": "stream",
                    "text": [
                        "Identity added: /Users/kamangir/.ssh/bolt_git_ssh_key (kamangir@dev.local)\n",
                        "Identity added: /Users/kamangir/.ssh/abcli (kamangir@dev.local)\n",
                        "sudo: a terminal is required to read the password; either use the -S option to read from standard input or configure an askpass helper\n",
                        "sudo: a password is required\n",
                        "sudo: a terminal is required to read the password; either use the -S option to read from standard input or configure an askpass helper\n",
                        "sudo: a password is required\n"
                    ]
                },
                {
                    "name": "stdout",
                    "output_type": "stream",
                    "text": [
                        "\u001b]0;abcli-7.2287.1.2023-06-aws-batch-a@dev.local\u0007\u001b[0;36m📂 2023-06-22-19-45-04-74194\u001b[0m\n",
                        "\u001b[0;36m📂 2023-06-22-19-45-04-74194\u001b[0m\n",
                        "\u001b[0;36m2023-06-22-19-45-04-74194 open download started.\u001b[0m\n",
                        "\u001b[0;36m2023-06-22-19-45-04-74194 download completed.\u001b[0m\n"
                    ]
                }
            ],
            "source": [
                "%%bash -s $object_name\n",
                "\n",
                "source ~/git/awesome-bash-cli/bash/abcli.sh in_notebook\n",
                "\n",
                "abcli select $1\n",
                "abcli download"
            ]
        },
        {
            "attachments": {},
            "cell_type": "markdown",
            "metadata": {},
            "source": [
                "---"
            ]
        },
        {
            "cell_type": "code",
            "execution_count": 5,
            "metadata": {},
            "outputs": [
                {
                    "name": "stderr",
                    "output_type": "stream",
                    "text": [
                        "Hello World!\n"
                    ]
                }
            ],
            "source": [
                "logger.info(\"Hello World!\")"
            ]
        },
        {
            "attachments": {},
            "cell_type": "markdown",
            "metadata": {},
            "source": [
                "---"
            ]
        },
        {
            "cell_type": "code",
            "execution_count": 9,
            "metadata": {},
            "outputs": [
                {
                    "name": "stderr",
                    "output_type": "stream",
                    "text": [
                        "\n",
                        "CommandNotFoundError: Your shell has not been properly configured to use 'conda activate'.\n",
                        "To initialize your shell, run\n",
                        "\n",
                        "    $ conda init <SHELL_NAME>\n",
                        "\n",
                        "Currently supported shells are:\n",
                        "  - bash\n",
                        "  - fish\n",
                        "  - tcsh\n",
                        "  - xonsh\n",
                        "  - zsh\n",
                        "  - powershell\n",
                        "\n",
                        "See 'conda init --help' for more information and options.\n",
                        "\n",
                        "IMPORTANT: You may need to close and restart your shell after running 'conda init'.\n",
                        "\n",
                        "\n"
                    ]
                },
                {
                    "name": "stdout",
                    "output_type": "stream",
                    "text": [
                        "\u001b[0;36m✅ papertrail-104\u001b[0m\n",
                        "\u001b[0;36m✅ template-101\u001b[0m\n",
                        "loading \u001b[0;32m30\u001b[0m plugin(s): \u001b[0;32m\u001b[31mcache\u001b[m\u001b[m \u001b[31mgit\u001b[m\u001b[m \u001b[31mjupyter-notebook\u001b[m\u001b[m \u001b[31mmessage\u001b[m\u001b[m \u001b[31mrelations\u001b[m\u001b[m \u001b[31mscript\u001b[m\u001b[m \u001b[31mtags\u001b[m\u001b[m \u001b[31mterminal\u001b[m\u001b[m GPU add alias aws browse clone conda docker graphics huggingface instance papertrail publish repeat scp screen seed session sleep ssh storage wifi\u001b[0m\n",
                        "\u001b[0;36m🔵 CV\u001b[0m\n",
                        "\u001b[0;36m🔵 EstimDiff\u001b[0m\n",
                        "\u001b[0;36m✅ EstimDiff-104\u001b[0m\n",
                        "\u001b[0;36m🔵 Iran-Watching\u001b[0m\n",
                        "\u001b[0;36m🔵 Kanata\u001b[0m\n",
                        "\u001b[0;36m✅ Kanata-103\u001b[0m\n",
                        "\u001b[0;36m🔵 Vancouver-Watching\u001b[0m\n",
                        "\u001b[0;36m🔹 iran\u001b[0m\n",
                        "\u001b[0;36m🔹 vancouver\u001b[0m\n",
                        "\u001b[0;36m✅ vancouver_watching-103\u001b[0m\n",
                        "\u001b[0;36m🔵 aiart\u001b[0m\n",
                        "\u001b[0;36m✅ aiart-101\u001b[0m\n",
                        "\u001b[0;36m🔵 blue-plugin\u001b[0m\n",
                        "\u001b[0;36m✅ blue_plugin-101\u001b[0m\n",
                        "\u001b[0;36m🔵 blue-sbc\u001b[0m\n",
                        "\u001b[0;36m🔵 blue-stability\u001b[0m\n",
                        "\u001b[0;36m✅ blue_stability-103\u001b[0m\n",
                        "\u001b[0;36m🔵 blue-wiki\u001b[0m\n",
                        "\u001b[0;36m✅ wordcloud-101\u001b[0m\n",
                        "\u001b[0;36m🔵 blue-worker\u001b[0m\n",
                        "\u001b[0;36m🔵 bracket\u001b[0m\n",
                        "\u001b[0;36m🔵 browser\u001b[0m\n",
                        "\u001b[0;36m🔵 dart\u001b[0m\n",
                        "\u001b[0;36m🔵 dec82\u001b[0m\n",
                        "\u001b[0;36m🔵 ferfereh\u001b[0m\n",
                        "\u001b[0;36m🔵 giza\u001b[0m\n",
                        "\u001b[0;36m✅ blue_plugin-101\u001b[0m\n",
                        "\u001b[0;36m🔵 grove.py\u001b[0m\n",
                        "\u001b[0;36m🔵 iAi\u001b[0m\n",
                        "\u001b[0;36m✅ iAi-113\u001b[0m\n",
                        "\u001b[0;36m🔵 openai\u001b[0m\n",
                        "\u001b[0;36m✅ openai-101\u001b[0m\n",
                        "\u001b[0;36m🔵 sandbox\u001b[0m\n",
                        "\u001b[0;36m✅ sandbox-101\u001b[0m\n",
                        "\u001b[0;36m🔵 yolov5\u001b[0m\n",
                        "\u001b[0;36m✅ fiftyone-101\u001b[0m\n",
                        "\u001b[0;36m✅ kaggle-101\u001b[0m\n",
                        "\u001b[0;36m✅ yolov5-101\u001b[0m\n",
                        "Agent pid 55555\n"
                    ]
                },
                {
                    "name": "stderr",
                    "output_type": "stream",
                    "text": [
                        "Identity added: /Users/kamangir/.ssh/bolt_git_ssh_key (kamangir@dev.local)\n",
                        "Identity added: /Users/kamangir/.ssh/abcli (kamangir@dev.local)\n"
                    ]
                }
            ],
            "source": [
                "%%bash -s $object_name\n",
                "source ~/git/awesome-bash-cli/bash/abcli.sh in_notebook\n",
                "\n",
                "abcli select $1\n",
                "abcli upload"
            ]
        },
        {
            "cell_type": "code",
            "execution_count": 6,
            "metadata": {},
            "outputs": [
                {
                    "name": "stderr",
                    "output_type": "stream",
                    "text": [
                        "abcli select 2023-06-22-19-45-04-74194\n",
                        "abcli download\n",
                        "open .\n"
                    ]
                }
            ],
            "source": [
                "seed.log(\"download_object\")"
            ]
        },
        {
            "cell_type": "code",
            "execution_count": 7,
            "metadata": {},
            "outputs": [],
            "source": [
                "# END"
            ]
        }
    ],
    "metadata": {
        "kernelspec": {
            "display_name": "Python 3 (ipykernel)",
            "language": "python",
            "name": "python3"
        },
        "language_info": {
            "codemirror_mode": {
                "name": "ipython",
                "version": 3
            },
            "file_extension": ".py",
            "mimetype": "text/x-python",
            "name": "python",
            "nbconvert_exporter": "python",
            "pygments_lexer": "ipython3",
            "version": "3.9.13"
        },
        "toc": {
            "base_numbering": 1,
            "nav_menu": {},
            "number_sections": true,
            "sideBar": true,
            "skip_h1_title": false,
            "title_cell": "Table of Contents",
            "title_sidebar": "Contents",
            "toc_cell": false,
            "toc_position": {},
            "toc_section_display": true,
            "toc_window_display": false
        }
    },
    "nbformat": 4,
    "nbformat_minor": 2
}
