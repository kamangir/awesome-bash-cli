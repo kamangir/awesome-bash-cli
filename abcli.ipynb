{
 "cells": [
  {
   "cell_type": "markdown",
   "metadata": {},
   "source": [
    "# abcli notebook"
   ]
  },
  {
   "cell_type": "code",
   "execution_count": 1,
   "metadata": {},
   "outputs": [],
   "source": [
    "import os\n",
    "\n",
    "from abcli import string\n",
    "\n",
    "import abcli.logging\n",
    "import logging\n",
    "\n",
    "logger = logging.getLogger()\n",
    "\n",
    "#logger.info(\"{} - built on {}\".format(os.environ.get('abcli_object_name'), string.pretty_date()))"
   ]
  },
  {
   "cell_type": "markdown",
   "metadata": {},
   "source": [
    "---"
   ]
  },
  {
   "cell_type": "code",
   "execution_count": 2,
   "metadata": {},
   "outputs": [
    {
     "name": "stdout",
     "output_type": "stream",
     "text": [
      "pretty_duration(10000000000.23)=321 year(s), 6 month(s), 17 hour(s), 46 minute(s), 40 second(s)\n",
      "pretty_duration(10000000000.23)=321 yr, 6 mth, 17 hr, 46 min, 40 s\n",
      "pretty_duration(10000000000.23)=321 year(s), 6 month(s), 17 hour(s), 46 minute(s), 40 second(s) ago\n",
      "pretty_duration(10000000000.23)=321 yr, 6 mth, 17 hr, 46 min, 40 s ago\n",
      "pretty_duration(10000000000.23)=321 year(s)\n",
      "pretty_duration(10000000000.23)=321 yr\n",
      "pretty_duration(10000000000.23)=321 year(s) ago\n",
      "pretty_duration(10000000000.23)=321 yr ago\n",
      "pretty_duration(10000000000.23)=321 year(s), 6 month(s), 17 hour(s), 46 minute(s), 40 second(s), 230 millisecond(s)\n",
      "pretty_duration(10000000000.23)=321 yr, 6 mth, 17 hr, 46 min, 40 s, 230 ms\n",
      "pretty_duration(10000000000.23)=321 year(s), 6 month(s), 17 hour(s), 46 minute(s), 40 second(s), 230 millisecond(s) ago\n",
      "pretty_duration(10000000000.23)=321 yr, 6 mth, 17 hr, 46 min, 40 s, 230 ms ago\n",
      "pretty_duration(10000000000.23)=321 year(s)\n",
      "pretty_duration(10000000000.23)=321 yr\n",
      "pretty_duration(10000000000.23)=321 year(s) ago\n",
      "pretty_duration(10000000000.23)=321 yr ago\n"
     ]
    }
   ],
   "source": [
    "duration = 10**10 + 0.23\n",
    "\n",
    "for include_ms in [False,True]:\n",
    "    for largest in [False,True]:\n",
    "        for past in [False,True]:\n",
    "            for short in [False,True]:\n",
    "                print(f\"pretty_duration({duration})={string.pretty_duration(duration, short=short, largest=largest, past=past,include_ms=include_ms)}\")"
   ]
  },
  {
   "cell_type": "markdown",
   "metadata": {},
   "source": [
    "---"
   ]
  },
  {
   "cell_type": "code",
   "execution_count": 3,
   "metadata": {},
   "outputs": [],
   "source": [
    "# END"
   ]
  }
 ],
 "metadata": {
  "kernelspec": {
   "display_name": "Python 3 (ipykernel)",
   "language": "python",
   "name": "python3"
  },
  "language_info": {
   "codemirror_mode": {
    "name": "ipython",
    "version": 3
   },
   "file_extension": ".py",
   "mimetype": "text/x-python",
   "name": "python",
   "nbconvert_exporter": "python",
   "pygments_lexer": "ipython3",
   "version": "3.9.12"
  },
  "toc": {
   "base_numbering": 1,
   "nav_menu": {},
   "number_sections": true,
   "sideBar": true,
   "skip_h1_title": false,
   "title_cell": "Table of Contents",
   "title_sidebar": "Contents",
   "toc_cell": false,
   "toc_position": {},
   "toc_section_display": true,
   "toc_window_display": false
  }
 },
 "nbformat": 4,
 "nbformat_minor": 2
}
