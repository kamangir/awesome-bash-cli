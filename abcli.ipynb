{
 "cells": [
  {
   "cell_type": "markdown",
   "metadata": {},
   "source": [
    "# abcli notebook"
   ]
  },
  {
   "cell_type": "code",
   "execution_count": 1,
   "metadata": {},
   "outputs": [],
   "source": [
    "import os\n",
    "\n",
    "from abcli import string\n",
    "\n",
    "import abcli.logging\n",
    "import logging\n",
    "\n",
    "logger = logging.getLogger()\n",
    "\n",
    "#logger.info(\"{} - built on {}\".format(os.environ.get('abcli_object_name'), string.pretty_date()))"
   ]
  },
  {
   "cell_type": "markdown",
   "metadata": {},
   "source": [
    "---"
   ]
  },
  {
   "cell_type": "code",
   "execution_count": 7,
   "metadata": {},
   "outputs": [
    {
     "name": "stdout",
     "output_type": "stream",
     "text": [
      "string.pretty_frequency(1)=1.0 Hz\n",
      "string.pretty_frequency(10)=10.0 Hz\n",
      "string.pretty_frequency(100)=100.0 Hz\n",
      "string.pretty_frequency(1000)=1.0 kHz\n",
      "string.pretty_frequency(10000)=10.0 kHz\n",
      "string.pretty_frequency(100000)=100.0 kHz\n",
      "string.pretty_frequency(1000000)=0.0 GHz\n",
      "string.pretty_frequency(10000000)=0.0 GHz\n",
      "string.pretty_frequency(100000000)=0.1 GHz\n",
      "string.pretty_frequency(1000000000)=1.0 GHz\n",
      "string.pretty_frequency(10000000000)=10.0 GHz\n",
      "string.pretty_frequency(100000000000)=100.0 GHz\n",
      "string.pretty_frequency(1000000000000)=1000.0 GHz\n",
      "string.pretty_frequency(10000000000000)=10000.0 GHz\n",
      "string.pretty_frequency(100000000000000)=100000.0 GHz\n"
     ]
    }
   ],
   "source": [
    "for index in range(15):\n",
    "    byte_count = 10 ** index\n",
    "    print(f\"string.pretty_frequency({byte_count})={string.pretty_frequency(byte_count)}\")"
   ]
  },
  {
   "cell_type": "markdown",
   "metadata": {},
   "source": [
    "---"
   ]
  },
  {
   "cell_type": "code",
   "execution_count": 3,
   "metadata": {},
   "outputs": [],
   "source": [
    "# END"
   ]
  }
 ],
 "metadata": {
  "kernelspec": {
   "display_name": "Python 3 (ipykernel)",
   "language": "python",
   "name": "python3"
  },
  "language_info": {
   "codemirror_mode": {
    "name": "ipython",
    "version": 3
   },
   "file_extension": ".py",
   "mimetype": "text/x-python",
   "name": "python",
   "nbconvert_exporter": "python",
   "pygments_lexer": "ipython3",
   "version": "3.9.12"
  },
  "toc": {
   "base_numbering": 1,
   "nav_menu": {},
   "number_sections": true,
   "sideBar": true,
   "skip_h1_title": false,
   "title_cell": "Table of Contents",
   "title_sidebar": "Contents",
   "toc_cell": false,
   "toc_position": {},
   "toc_section_display": true,
   "toc_window_display": false
  }
 },
 "nbformat": 4,
 "nbformat_minor": 2
}
