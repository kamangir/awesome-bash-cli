{
 "cells": [
  {
   "cell_type": "markdown",
   "metadata": {},
   "source": [
    "# abcli notebook"
   ]
  },
  {
   "cell_type": "code",
   "execution_count": 1,
   "metadata": {},
   "outputs": [],
   "source": [
    "import os\n",
    "\n",
    "from abcli import string\n",
    "\n",
    "import abcli.logging\n",
    "import logging\n",
    "\n",
    "logger = logging.getLogger()\n",
    "\n",
    "#logger.info(\"{} - built on {}\".format(os.environ.get('abcli_object_name'), string.pretty_date()))"
   ]
  },
  {
   "cell_type": "markdown",
   "metadata": {},
   "source": [
    "---"
   ]
  },
  {
   "cell_type": "code",
   "execution_count": 6,
   "metadata": {},
   "outputs": [
    {
     "name": "stdout",
     "output_type": "stream",
     "text": [
      "string.pretty_bytes(1)=1 byte(s)\n",
      "string.pretty_bytes(10)=10 byte(s)\n",
      "string.pretty_bytes(100)=100 byte(s)\n",
      "string.pretty_bytes(1000)=0.98 kB\n",
      "string.pretty_bytes(10000)=9.77 kB\n",
      "string.pretty_bytes(100000)=97.66 kB\n",
      "string.pretty_bytes(1000000)=0.95 MB\n",
      "string.pretty_bytes(10000000)=9.54 MB\n",
      "string.pretty_bytes(100000000)=95.37 MB\n",
      "string.pretty_bytes(1000000000)=953.67 MB\n",
      "string.pretty_bytes(10000000000)=9.31 GB\n",
      "string.pretty_bytes(100000000000)=93.13 GB\n",
      "string.pretty_bytes(1000000000000)=931.32 GB\n",
      "string.pretty_bytes(10000000000000)=9.09 TB\n",
      "string.pretty_bytes(100000000000000)=90.95 TB\n"
     ]
    }
   ],
   "source": [
    "for index in range(15):\n",
    "    byte_count = 10 ** index\n",
    "    print(f\"string.pretty_bytes({byte_count})={string.pretty_bytes(byte_count)}\")"
   ]
  },
  {
   "cell_type": "markdown",
   "metadata": {},
   "source": [
    "---"
   ]
  },
  {
   "cell_type": "code",
   "execution_count": 3,
   "metadata": {},
   "outputs": [],
   "source": [
    "# END"
   ]
  }
 ],
 "metadata": {
  "kernelspec": {
   "display_name": "Python 3 (ipykernel)",
   "language": "python",
   "name": "python3"
  },
  "language_info": {
   "codemirror_mode": {
    "name": "ipython",
    "version": 3
   },
   "file_extension": ".py",
   "mimetype": "text/x-python",
   "name": "python",
   "nbconvert_exporter": "python",
   "pygments_lexer": "ipython3",
   "version": "3.9.12"
  },
  "toc": {
   "base_numbering": 1,
   "nav_menu": {},
   "number_sections": true,
   "sideBar": true,
   "skip_h1_title": false,
   "title_cell": "Table of Contents",
   "title_sidebar": "Contents",
   "toc_cell": false,
   "toc_position": {},
   "toc_section_display": true,
   "toc_window_display": false
  }
 },
 "nbformat": 4,
 "nbformat_minor": 2
}
