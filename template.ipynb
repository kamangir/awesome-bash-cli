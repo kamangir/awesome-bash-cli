{
    "cells": [
        {
            "attachments": {},
            "cell_type": "markdown",
            "metadata": {},
            "source": [
                "# abcli notebook"
            ]
        },
        {
            "cell_type": "code",
            "execution_count": 1,
            "metadata": {},
            "outputs": [
                {
                    "name": "stderr",
                    "output_type": "stream",
                    "text": [
                        "Found credentials in shared credentials file: ~/.aws/credentials\n",
                        "abcli-7.2581.1-unknown, built on 24 December 2023, 14:57:24\n"
                    ]
                }
            ],
            "source": [
                "import os\n",
                "\n",
                "from abcli import file\n",
                "from abcli import fullname\n",
                "from abcli.modules import objects\n",
                "from abcli import string\n",
                "from abcli.plugins import seed\n",
                "\n",
                "import abcli.logging\n",
                "import logging\n",
                "\n",
                "logger = logging.getLogger()\n",
                "\n",
                "logger.info(f\"{fullname()}, built on {string.pretty_date()}\")"
            ]
        },
        {
            "cell_type": "code",
            "execution_count": 2,
            "metadata": {},
            "outputs": [],
            "source": [
                "object_name = f\"fascinating-magic-{string.timestamp()}\"\n",
                "object_path = objects.object_path(object_name)"
            ]
        },
        {
            "cell_type": "code",
            "execution_count": 3,
            "metadata": {},
            "outputs": [
                {
                    "name": "stdout",
                    "output_type": "stream",
                    "text": [
                        "\u001b[0;36m🔋 gpu: not found.\u001b[0m\n",
                        "\u001b[0;36mfascinating-magic-2023-12-24-14-57-24-15803 open download started.\u001b[0m\n",
                        "\u001b[0;36mfascinating-magic-2023-12-24-14-57-24-15803 download completed.\u001b[0m\n"
                    ]
                }
            ],
            "source": [
                "%%bash -s $object_name\n",
                "source ~/git/awesome-bash-cli/bash/abcli.sh in_notebook\n",
                "\n",
                "object_name=$1\n",
                "\n",
                "abcli download object $object_name"
            ]
        },
        {
            "attachments": {},
            "cell_type": "markdown",
            "metadata": {},
            "source": [
                "---"
            ]
        },
        {
            "cell_type": "code",
            "execution_count": 4,
            "metadata": {},
            "outputs": [
                {
                    "name": "stderr",
                    "output_type": "stream",
                    "text": [
                        "Hello World! 🪄\n"
                    ]
                }
            ],
            "source": [
                "logger.info(\"Hello World! 🪄\")"
            ]
        },
        {
            "attachments": {},
            "cell_type": "markdown",
            "metadata": {},
            "source": [
                "---"
            ]
        },
        {
            "cell_type": "code",
            "execution_count": 5,
            "metadata": {},
            "outputs": [
                {
                    "name": "stdout",
                    "output_type": "stream",
                    "text": [
                        "\u001b[0;36m🔋 gpu: not found.\u001b[0m\n",
                        "\u001b[0;36m📂 object :: fascinating-magic-2023-12-24-14-57-24-15803\u001b[0m\n"
                    ]
                },
                {
                    "name": "stderr",
                    "output_type": "stream",
                    "text": [
                        "fascinating-magic-2023-12-24-14-57-24-15803 += #built_by_notebook.\n"
                    ]
                },
                {
                    "name": "stdout",
                    "output_type": "stream",
                    "text": [
                        "\u001b[0;36mconfirmed: fascinating-magic-2023-12-24-14-57-24-15803 does not exist.\u001b[0m\n",
                        "\u001b[0;36mfascinating-magic-2023-12-24-14-57-24-15803 open upload started.\u001b[0m\n",
                        "upload: ./abcli.log to s3://kamangir/bolt/fascinating-magic-2023-12-24-14-57-24-15803/abcli.log\n"
                    ]
                },
                {
                    "name": "stderr",
                    "output_type": "stream",
                    "text": [
                        "fascinating-magic-2023-12-24-14-57-24-15803 += #open.\n"
                    ]
                }
            ],
            "source": [
                "%%bash -s $object_name\n",
                "source ~/git/awesome-bash-cli/bash/abcli.sh in_notebook\n",
                "\n",
                "object_name=$1\n",
                "\n",
                "abcli select $object_name\n",
                "abcli tag set . built_by_notebook\n",
                "abcli upload"
            ]
        },
        {
            "cell_type": "code",
            "execution_count": 6,
            "metadata": {},
            "outputs": [
                {
                    "name": "stderr",
                    "output_type": "stream",
                    "text": [
                        "abcli select fascinating-magic-2023-12-24-14-57-24-15803; open .\n"
                    ]
                }
            ],
            "source": [
                "seed.log(object_name)"
            ]
        },
        {
            "cell_type": "code",
            "execution_count": 7,
            "metadata": {},
            "outputs": [],
            "source": [
                "# END"
            ]
        }
    ],
    "metadata": {
        "kernelspec": {
            "display_name": "Python 3 (ipykernel)",
            "language": "python",
            "name": "python3"
        },
        "language_info": {
            "codemirror_mode": {
                "name": "ipython",
                "version": 3
            },
            "file_extension": ".py",
            "mimetype": "text/x-python",
            "name": "python",
            "nbconvert_exporter": "python",
            "pygments_lexer": "ipython3",
            "version": "3.11.5"
        },
        "toc": {
            "base_numbering": 1,
            "nav_menu": {},
            "number_sections": true,
            "sideBar": true,
            "skip_h1_title": false,
            "title_cell": "Table of Contents",
            "title_sidebar": "Contents",
            "toc_cell": false,
            "toc_position": {},
            "toc_section_display": true,
            "toc_window_display": false
        }
    },
    "nbformat": 4,
    "nbformat_minor": 2
}
