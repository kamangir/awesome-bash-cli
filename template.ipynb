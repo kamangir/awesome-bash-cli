{
    "cells": [
        {
            "attachments": {},
            "cell_type": "markdown",
            "metadata": {},
            "source": [
                "# abcli notebook"
            ]
        },
        {
            "cell_type": "code",
            "execution_count": 1,
            "metadata": {},
            "outputs": [],
            "source": [
                "import os\n",
                "os.environ[\"abcli_path_bash\"] = \"{}/git/awesome-bash-cli/bash\".format(os.getenv(\"HOME\"))"
            ]
        },
        {
            "cell_type": "code",
            "execution_count": 2,
            "metadata": {},
            "outputs": [
                {
                    "name": "stderr",
                    "output_type": "stream",
                    "text": [
                        ":: blue_plugin-3.101.1.abcli-9.183.1, built on 26 July 2024, 18:17:24\n"
                    ]
                }
            ],
            "source": [
                "from abcli import fullname\n",
                "from abcli import string\n",
                "from abcli.modules import objects\n",
                "from abcli.plugins import seed\n",
                "from blue_plugin import NAME, VERSION\n",
                "from abcli.logger import logger\n",
                "\n",
                "logger.info(f\"{NAME}-{VERSION}.{fullname()}, built on {string.pretty_date()}\")"
            ]
        },
        {
            "cell_type": "code",
            "execution_count": 3,
            "metadata": {},
            "outputs": [],
            "source": [
                "object_name = f\"fascinating-magic-{string.timestamp()}\"\n",
                "object_path = objects.object_path(object_name)\n",
                "\n",
                "cache_inputs = True"
            ]
        },
        {
            "cell_type": "code",
            "execution_count": 4,
            "metadata": {},
            "outputs": [
                {
                    "name": "stdout",
                    "output_type": "stream",
                    "text": [
                        "🌀 blueness-3.66.1\n",
                        "🌀 blue_options-4.35.1\n",
                        "\u001b[0;36m📜 awesome-bash-cli: .env: 24 env var(s)\u001b[0m\n",
                        "\u001b[0;36m📜 awesome-bash-cli: abcli/config.env: 13 env var(s)\u001b[0m\n",
                        "\u001b[0;36m🔋 gpu: not found.\u001b[0m\n",
                        "\u001b[0;36m🚀 abcli-9.183.1.current\u001b[0m\n"
                    ]
                }
            ],
            "source": [
                "%%bash -s $cache_inputs $object_name\n",
                "source ~/git/awesome-bash-cli/abcli/.abcli/abcli.sh in_notebook\n",
                "\n",
                "cache_inputs=$1\n",
                "object_name=$2\n",
                "\n",
                "if [[ \"$cache_inputs\" == False ]] ; then\n",
                "    abcli download - $object_name\n",
                "fi"
            ]
        },
        {
            "attachments": {},
            "cell_type": "markdown",
            "metadata": {},
            "source": [
                "---"
            ]
        },
        {
            "cell_type": "code",
            "execution_count": 5,
            "metadata": {},
            "outputs": [
                {
                    "name": "stderr",
                    "output_type": "stream",
                    "text": [
                        ":: Hello World! 🪄\n"
                    ]
                }
            ],
            "source": [
                "logger.info(\"Hello World! 🪄\")"
            ]
        },
        {
            "attachments": {},
            "cell_type": "markdown",
            "metadata": {},
            "source": [
                "---"
            ]
        },
        {
            "cell_type": "code",
            "execution_count": 6,
            "metadata": {},
            "outputs": [
                {
                    "name": "stdout",
                    "output_type": "stream",
                    "text": [
                        "🌀 blueness-3.66.1\n",
                        "🌀 blue_options-4.35.1\n",
                        "\u001b[0;36m📜 awesome-bash-cli: .env: 24 env var(s)\u001b[0m\n",
                        "\u001b[0;36m📜 awesome-bash-cli: abcli/config.env: 13 env var(s)\u001b[0m\n",
                        "\u001b[0;36m🔋 gpu: not found.\u001b[0m\n",
                        "\u001b[0;36m🚀 abcli-9.183.1.current\u001b[0m\n",
                        "\u001b[0;36m📂 object :: fascinating-magic-2024-07-26-18-17-24-39896\u001b[0m\n"
                    ]
                },
                {
                    "name": "stderr",
                    "output_type": "stream",
                    "text": [
                        ":: fascinating-magic-2024-07-26-18-17-24-39896 += #built_by_notebook.\n"
                    ]
                },
                {
                    "name": "stdout",
                    "output_type": "stream",
                    "text": [
                        "\u001b[0;36mconfirmed: fascinating-magic-2024-07-26-18-17-24-39896 does not exist.\u001b[0m\n",
                        "\u001b[0;36mfascinating-magic-2024-07-26-18-17-24-39896 open upload started.\u001b[0m\n",
                        "upload: ./abcli.log to s3://kamangir/bolt/fascinating-magic-2024-07-26-18-17-24-39896/abcli.log\n"
                    ]
                },
                {
                    "name": "stderr",
                    "output_type": "stream",
                    "text": [
                        ":: fascinating-magic-2024-07-26-18-17-24-39896 += #open.\n"
                    ]
                }
            ],
            "source": [
                "%%bash -s $object_name\n",
                "source ~/git/awesome-bash-cli/abcli/.abcli/abcli.sh in_notebook\n",
                "\n",
                "object_name=$1\n",
                "\n",
                "abcli select $object_name\n",
                "abcli tag set . built_by_notebook\n",
                "abcli upload"
            ]
        },
        {
            "cell_type": "code",
            "execution_count": 7,
            "metadata": {},
            "outputs": [
                {
                    "name": "stderr",
                    "output_type": "stream",
                    "text": [
                        ":: abcli select fascinating-magic-2024-07-26-18-17-24-39896; open .\n"
                    ]
                }
            ],
            "source": [
                "seed.log(object_name)"
            ]
        },
        {
            "cell_type": "code",
            "execution_count": 8,
            "metadata": {},
            "outputs": [],
            "source": [
                "# END"
            ]
        }
    ],
    "metadata": {
        "kernelspec": {
            "display_name": "Python 3 (ipykernel)",
            "language": "python",
            "name": "python3"
        },
        "language_info": {
            "codemirror_mode": {
                "name": "ipython",
                "version": 3
            },
            "file_extension": ".py",
            "mimetype": "text/x-python",
            "name": "python",
            "nbconvert_exporter": "python",
            "pygments_lexer": "ipython3",
            "version": "3.9.19"
        },
        "toc": {
            "base_numbering": 1,
            "nav_menu": {},
            "number_sections": true,
            "sideBar": true,
            "skip_h1_title": false,
            "title_cell": "Table of Contents",
            "title_sidebar": "Contents",
            "toc_cell": false,
            "toc_position": {},
            "toc_section_display": true,
            "toc_window_display": false
        }
    },
    "nbformat": 4,
    "nbformat_minor": 2
}
