{
    "cells": [
        {
            "attachments": {},
            "cell_type": "markdown",
            "metadata": {},
            "source": [
                "# abcli notebook"
            ]
        },
        {
            "cell_type": "code",
            "execution_count": 1,
            "metadata": {},
            "outputs": [
                {
                    "name": "stderr",
                    "output_type": "stream",
                    "text": [
                        "crash: -abcli.file: load_json(bootstrap/config/aws.json): failed.\n",
                        "exception \n",
                        "Traceback (most recent call last):\n",
                        "  File \"/Users/kamangir/git/awesome-bash-cli/abcli/file/load.py\", line 161, in load_json\n",
                        "    with open(filename, \"r\") as fh:\n",
                        "         ^^^^^^^^^^^^^^^^^^^\n",
                        "FileNotFoundError: [Errno 2] No such file or directory: 'bootstrap/config/aws.json'\n",
                        "crash: -abcli.file: load_json(bootstrap/config/aws.json): failed.\n",
                        "exception \n",
                        "Traceback (most recent call last):\n",
                        "  File \"/Users/kamangir/git/awesome-bash-cli/abcli/file/load.py\", line 161, in load_json\n",
                        "    with open(filename, \"r\") as fh:\n",
                        "         ^^^^^^^^^^^^^^^^^^^\n",
                        "FileNotFoundError: [Errno 2] No such file or directory: 'bootstrap/config/aws.json'\n",
                        "crash: -abcli.file: load_json(bootstrap/config/aws.json): failed.\n",
                        "exception \n",
                        "Traceback (most recent call last):\n",
                        "  File \"/Users/kamangir/git/awesome-bash-cli/abcli/file/load.py\", line 161, in load_json\n",
                        "    with open(filename, \"r\") as fh:\n",
                        "         ^^^^^^^^^^^^^^^^^^^\n",
                        "FileNotFoundError: [Errno 2] No such file or directory: 'bootstrap/config/aws.json'\n",
                        "Found credentials in shared credentials file: ~/.aws/credentials\n",
                        "crash: -storage: failed.\n",
                        "exception \n",
                        "Traceback (most recent call last):\n",
                        "  File \"/Users/kamangir/git/awesome-bash-cli/abcli/plugins/storage/classes.py\", line 23, in __init__\n",
                        "    self.s3 = boto3.client(\"s3\", region_name=self.region)\n",
                        "              ^^^^^^^^^^^^^^^^^^^^^^^^^^^^^^^^^^^^^^^^^^^\n",
                        "  File \"/usr/local/lib/python3.11/site-packages/boto3/__init__.py\", line 92, in client\n",
                        "    return _get_default_session().client(*args, **kwargs)\n",
                        "           ^^^^^^^^^^^^^^^^^^^^^^^^^^^^^^^^^^^^^^^^^^^^^^\n",
                        "  File \"/usr/local/lib/python3.11/site-packages/boto3/session.py\", line 299, in client\n",
                        "    return self._session.create_client(\n",
                        "           ^^^^^^^^^^^^^^^^^^^^^^^^^^^^\n",
                        "  File \"/usr/local/lib/python3.11/site-packages/botocore/session.py\", line 997, in create_client\n",
                        "    client = client_creator.create_client(\n",
                        "             ^^^^^^^^^^^^^^^^^^^^^^^^^^^^^\n",
                        "  File \"/usr/local/lib/python3.11/site-packages/botocore/client.py\", line 161, in create_client\n",
                        "    client_args = self._get_client_args(\n",
                        "                  ^^^^^^^^^^^^^^^^^^^^^^\n",
                        "  File \"/usr/local/lib/python3.11/site-packages/botocore/client.py\", line 508, in _get_client_args\n",
                        "    return args_creator.get_client_args(\n",
                        "           ^^^^^^^^^^^^^^^^^^^^^^^^^^^^^\n",
                        "  File \"/usr/local/lib/python3.11/site-packages/botocore/args.py\", line 137, in get_client_args\n",
                        "    endpoint = endpoint_creator.create_endpoint(\n",
                        "               ^^^^^^^^^^^^^^^^^^^^^^^^^^^^^^^^^\n",
                        "  File \"/usr/local/lib/python3.11/site-packages/botocore/endpoint.py\", line 402, in create_endpoint\n",
                        "    raise ValueError(\"Invalid endpoint: %s\" % endpoint_url)\n",
                        "ValueError: Invalid endpoint: https://s3..amazonaws.com\n",
                        "abcli-7.2618.1-unknown, built on 13 January 2024, 18:37:29\n"
                    ]
                }
            ],
            "source": [
                "import os\n",
                "\n",
                "from abcli import file\n",
                "from abcli import fullname\n",
                "from abcli.modules import objects\n",
                "from abcli import string\n",
                "from abcli.plugins import seed\n",
                "\n",
                "import abcli.logging\n",
                "import logging\n",
                "\n",
                "logger = logging.getLogger()\n",
                "\n",
                "logger.info(f\"{fullname()}, built on {string.pretty_date()}\")"
            ]
        },
        {
            "cell_type": "code",
            "execution_count": 2,
            "metadata": {},
            "outputs": [],
            "source": [
                "object_name = f\"fascinating-magic-{string.timestamp()}\"\n",
                "object_path = objects.object_path(object_name)"
            ]
        },
        {
            "cell_type": "code",
            "execution_count": 3,
            "metadata": {},
            "outputs": [
                {
                    "name": "stdout",
                    "output_type": "stream",
                    "text": [
                        "\u001b[0;36m🔋 gpu: not found.\u001b[0m\n",
                        "\u001b[0;36m🚀 abcli-7.2618.1.2023-06-aws-batch-a\u001b[0m\n",
                        "\u001b[0;36mdownloading fascinating-magic-2024-01-13-18-37-29-80432: open ...\u001b[0m\n",
                        "\u001b[0;36mdownload completed: fascinating-magic-2024-01-13-18-37-29-80432 \u001b[0m\n"
                    ]
                }
            ],
            "source": [
                "%%bash -s $object_name\n",
                "source ~/git/awesome-bash-cli/bash/abcli.sh in_notebook\n",
                "\n",
                "object_name=$1\n",
                "\n",
                "abcli download - $object_name"
            ]
        },
        {
            "attachments": {},
            "cell_type": "markdown",
            "metadata": {},
            "source": [
                "---"
            ]
        },
        {
            "cell_type": "code",
            "execution_count": 4,
            "metadata": {},
            "outputs": [
                {
                    "name": "stderr",
                    "output_type": "stream",
                    "text": [
                        "Hello World! 🪄\n"
                    ]
                }
            ],
            "source": [
                "logger.info(\"Hello World! 🪄\")"
            ]
        },
        {
            "attachments": {},
            "cell_type": "markdown",
            "metadata": {},
            "source": [
                "---"
            ]
        },
        {
            "cell_type": "code",
            "execution_count": 5,
            "metadata": {},
            "outputs": [
                {
                    "name": "stdout",
                    "output_type": "stream",
                    "text": [
                        "\u001b[0;36m🔋 gpu: not found.\u001b[0m\n",
                        "\u001b[0;36m🚀 abcli-7.2618.1.2023-06-aws-batch-a\u001b[0m\n",
                        "\u001b[0;36m📂 object :: fascinating-magic-2024-01-13-18-37-29-80432\u001b[0m\n"
                    ]
                },
                {
                    "name": "stderr",
                    "output_type": "stream",
                    "text": [
                        "fascinating-magic-2024-01-13-18-37-29-80432 += #built_by_notebook.\n"
                    ]
                },
                {
                    "name": "stdout",
                    "output_type": "stream",
                    "text": [
                        "\u001b[0;36mconfirmed: fascinating-magic-2024-01-13-18-37-29-80432 does not exist.\u001b[0m\n",
                        "\u001b[0;36mfascinating-magic-2024-01-13-18-37-29-80432 open upload started.\u001b[0m\n",
                        "upload: ./abcli.log to s3://kamangir/bolt/fascinating-magic-2024-01-13-18-37-29-80432/abcli.log\n"
                    ]
                },
                {
                    "name": "stderr",
                    "output_type": "stream",
                    "text": [
                        "fascinating-magic-2024-01-13-18-37-29-80432 += #open.\n"
                    ]
                }
            ],
            "source": [
                "%%bash -s $object_name\n",
                "source ~/git/awesome-bash-cli/bash/abcli.sh in_notebook\n",
                "\n",
                "object_name=$1\n",
                "\n",
                "abcli select $object_name\n",
                "abcli tag set . built_by_notebook\n",
                "abcli upload"
            ]
        },
        {
            "cell_type": "code",
            "execution_count": 6,
            "metadata": {},
            "outputs": [
                {
                    "name": "stderr",
                    "output_type": "stream",
                    "text": [
                        "abcli select fascinating-magic-2024-01-13-18-37-29-80432; open .\n"
                    ]
                }
            ],
            "source": [
                "seed.log(object_name)"
            ]
        },
        {
            "cell_type": "code",
            "execution_count": 7,
            "metadata": {},
            "outputs": [],
            "source": [
                "# END"
            ]
        }
    ],
    "metadata": {
        "kernelspec": {
            "display_name": "Python 3 (ipykernel)",
            "language": "python",
            "name": "python3"
        },
        "language_info": {
            "codemirror_mode": {
                "name": "ipython",
                "version": 3
            },
            "file_extension": ".py",
            "mimetype": "text/x-python",
            "name": "python",
            "nbconvert_exporter": "python",
            "pygments_lexer": "ipython3",
            "version": "3.11.7"
        },
        "toc": {
            "base_numbering": 1,
            "nav_menu": {},
            "number_sections": true,
            "sideBar": true,
            "skip_h1_title": false,
            "title_cell": "Table of Contents",
            "title_sidebar": "Contents",
            "toc_cell": false,
            "toc_position": {},
            "toc_section_display": true,
            "toc_window_display": false
        }
    },
    "nbformat": 4,
    "nbformat_minor": 2
}
